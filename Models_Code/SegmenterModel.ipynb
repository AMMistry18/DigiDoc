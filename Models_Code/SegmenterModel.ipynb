{
  "cells": [
    {
      "cell_type": "code",
      "execution_count": 2,
      "metadata": {
        "id": "-suMYzKeX8pj"
      },
      "outputs": [],
      "source": [
        "import numpy as np\n",
        "import pandas as pd\n",
        "import cv2\n",
        "import nibabel as nib\n",
        "from pathlib import Path\n",
        "from tensorflow.keras.models import Model\n",
        "from tensorflow.keras.layers import Input, Conv2D, Conv2DTranspose, BatchNormalization, ReLU\n",
        "from tensorflow.keras.optimizers import Adam"
      ]
    },
    {
      "cell_type": "code",
      "execution_count": 3,
      "metadata": {
        "id": "-rlJBEc-YIqU"
      },
      "outputs": [],
      "source": [
        "drive.mount(\"/content/drive\")\n",
        "heart_mri_path = Path(\"/content/drive/MyDrive/Heart Segmentation Data/imagesTr\")\n",
        "heart_label_path = Path(\"/content/drive/MyDrive/Heart Segmentation Data/labelsTr\")"
      ]
    },
    {
      "cell_type": "code",
      "execution_count": 4,
      "metadata": {
        "id": "V-PLKpPPYMHy"
      },
      "outputs": [],
      "source": [
        "mri_files = list(heart_mri_path.glob(\"*.nii\"))\n",
        "label_files = list(heart_label_path.glob(\"*.nii\"))\n"
      ]
    },
    {
      "cell_type": "code",
      "execution_count": 5,
      "metadata": {
        "id": "LlIBXotGYNpX"
      },
      "outputs": [],
      "source": [
        "heart_data_mapping = pd.DataFrame({\n",
        "    \"MRI_IMAGE\": [str(img) for img in mri_files],\n",
        "    \"LABEL_IMAGE\": [str(lbl) for lbl in label_files]\n",
        "})\n"
      ]
    },
    {
      "cell_type": "code",
      "execution_count": 6,
      "metadata": {
        "id": "fpGV39MsYSbx"
      },
      "outputs": [],
      "source": [
        "processed_mri_images = []\n",
        "processed_label_images = []"
      ]
    },
    {
      "cell_type": "code",
      "execution_count": 7,
      "metadata": {
        "id": "5urvn_HDYWSA"
      },
      "outputs": [],
      "source": [
        "for mri_path, label_path in zip(heart_data_mapping[\"MRI_IMAGE\"], heart_data_mapping[\"LABEL_IMAGE\"]):\n",
        "    mri_volume = nib.load(mri_path).get_fdata()\n",
        "    label_volume = nib.load(label_path).get_fdata()\n",
        "\n",
        "    middle_mri_slice = mri_volume[mri_volume.shape[0] // 2] / 255.0\n",
        "    middle_label_slice = label_volume[mri_volume.shape[0] // 2] / 255.0\n",
        "\n",
        "    if np.mean(middle_label_slice) > 0:\n",
        "        resized_mri_slice = cv2.resize(middle_mri_slice.astype(\"float32\"), (256, 256))\n",
        "        resized_label_slice = cv2.resize(middle_label_slice.astype(\"float32\"), (256, 256))\n",
        "\n",
        "        processed_mri_images.append(resized_mri_slice)\n",
        "        processed_label_images.append(resized_label_slice)"
      ]
    },
    {
      "cell_type": "code",
      "execution_count": 8,
      "metadata": {
        "id": "8_4c_Tv_Yf7a"
      },
      "outputs": [],
      "source": [
        "training_mri_images = np.array(processed_mri_images, dtype=\"float32\").reshape(-1, 256, 256, 1)\n",
        "training_label_images = np.array(processed_label_images, dtype=\"float32\").reshape(-1, 256, 256, 1)"
      ]
    },
    {
      "cell_type": "code",
      "execution_count": 9,
      "metadata": {
        "id": "oP63qzkEYlpQ"
      },
      "outputs": [],
      "source": [
        "input_layer = Input(shape=(256, 256, 1))"
      ]
    },
    {
      "cell_type": "code",
      "execution_count": 10,
      "metadata": {
        "id": "Mnv1DU8mYnOX"
      },
      "outputs": [],
      "source": [
        "x = Conv2D(32, (5, 5), kernel_initializer='he_normal')(input_layer)\n",
        "x = BatchNormalization()(x)\n",
        "x = ReLU()(x)\n",
        "x = Conv2D(64, (5, 5), kernel_initializer='he_normal')(x)\n",
        "x = BatchNormalization()(x)\n",
        "x = ReLU()(x)\n",
        "x = Conv2D(128, (2, 2), kernel_initializer='he_normal')(x)\n",
        "x = BatchNormalization()(x)\n",
        "x = ReLU()(x)\n",
        "encoded = Conv2D(128, (2, 2), kernel_initializer='he_normal')(x)\n",
        "encoded = BatchNormalization()(encoded)\n",
        "encoded = ReLU()(encoded)"
      ]
    },
    {
      "cell_type": "code",
      "execution_count": 11,
      "metadata": {
        "id": "tsEC_SATYonl"
      },
      "outputs": [],
      "source": [
        "x = Conv2DTranspose(128, (2, 2))(encoded)\n",
        "x = ReLU()(x)\n",
        "x = Conv2DTranspose(64, (2, 2))(x)\n",
        "x = ReLU()(x)\n",
        "x = Conv2DTranspose(32, (5, 5))(x)\n",
        "x = ReLU()(x)\n",
        "decoded = Conv2DTranspose(1, (5, 5))(x)\n"
      ]
    },
    {
      "cell_type": "code",
      "execution_count": 12,
      "metadata": {
        "id": "LPlARBRhZABI"
      },
      "outputs": [],
      "source": [
        "tsa_model = Model(inputs=input_layer, outputs=decoded)\n"
      ]
    },
    {
      "cell_type": "code",
      "execution_count": 13,
      "metadata": {
        "id": "W5113_XTZA7L"
      },
      "outputs": [],
      "source": [
        "tsa_model.compile(loss=\"binary_crossentropy\", optimizer=Adam(learning_rate=1e-7), metrics=[\"accuracy\"])\n"
      ]
    },
    {
      "cell_type": "code",
      "execution_count": null,
      "metadata": {
        "id": "24lDySofZBvH"
      },
      "outputs": [],
      "source": [
        "model_training_history = tsa_model.fit(training_mri_images, training_label_images, epochs=100)\n"
      ]
    },
    {
      "cell_type": "code",
      "execution_count": null,
      "metadata": {
        "id": "yGKmjbaxlb7G"
      },
      "outputs": [],
      "source": [
        "tsa_model.save('tsaModel.h5')\n"
      ]
    }
  ],
  "metadata": {
    "colab": {
      "provenance": []
    },
    "kernelspec": {
      "display_name": "Python 3",
      "name": "python3"
    },
    "language_info": {
      "name": "python"
    }
  },
  "nbformat": 4,
  "nbformat_minor": 0
}
